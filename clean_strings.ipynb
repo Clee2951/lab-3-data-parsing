{
 "cells": [
  {
   "cell_type": "code",
   "execution_count": 38,
   "id": "b34207b1",
   "metadata": {},
   "outputs": [
    {
     "name": "stdout",
     "output_type": "stream",
     "text": [
      "             raw\n",
      "0           BOB(\n",
      "1        dana~  \n",
      "2          {EVE/\n",
      "3      \"ALICE   \n",
      "4            BOB\n",
      "5           DANA\n",
      "6        CHARLIE\n",
      "7       alice   \n",
      "8          FRANK\n",
      "9            bob\n",
      "10           eve\n",
      "11        \\dana'\n",
      "12           EVE\n",
      "13      CHARLIE \n",
      "14          -eve\n",
      "15        bob   \n",
      "16           EVE\n",
      "17     .FRANK   \n",
      "18          eve \n",
      "19           EVE\n",
      "20          BOB&\n",
      "21      charlie\"\n",
      "22    ,charlie  \n",
      "23         EVE  \n",
      "24         ]dana\n",
      "25     charlie  \n",
      "26        alice+\n",
      "27         EVE{ \n",
      "28          DANA\n",
      "29       frank  \n",
      "30      CHARLIE!\n",
      "31      |ALICE# \n",
      "32           BOB\n",
      "33        frank^\n",
      "34         alice\n",
      "35          'bob\n",
      "36       CHARLIE\n",
      "37         eve+ \n",
      "38      CHARLIE \n",
      "39       charlie\n",
      "40         dana#\n",
      "41       DANA   \n",
      "42          dana\n",
      "43       CHARLIE\n",
      "44    =charlie! \n",
      "45        bob   \n",
      "46           bob\n",
      "47       ;EVE   \n",
      "48    =charlie  \n",
      "49          dana\n"
     ]
    }
   ],
   "source": [
    "#Task A\n",
    "import pandas as pd\n",
    "\n",
    "df = pd.read_csv('/Users/connor/RISE/lab-3-data-parsing/data/messy_strings.csv')\n",
    "print (df) "
   ]
  },
  {
   "cell_type": "code",
   "execution_count": null,
   "id": "da7ccb18",
   "metadata": {},
   "outputs": [],
   "source": [
    "#Task B\n",
    "def clean_strings(strings):\n",
    "   strings = strings.dropna()\n",
    "   strings = strings.str.lower()\n",
    "   strings = strings.str.strip()\n",
    "   strings = strings.str.replace(r'[^a-z\\s]', '', regex = True)\n",
    "   return strings\n"
   ]
  },
  {
   "cell_type": "code",
   "execution_count": null,
   "id": "b2595130",
   "metadata": {},
   "outputs": [
    {
     "name": "stdout",
     "output_type": "stream",
     "text": [
      "        raw    clean\n",
      "0       bob      bob\n",
      "1      dana     dana\n",
      "2       eve      eve\n",
      "3     alice    alice\n",
      "4       bob      bob\n",
      "5      dana     dana\n",
      "6   charlie  charlie\n",
      "7     alice    alice\n",
      "8     frank    frank\n",
      "9       bob      bob\n",
      "10      eve      eve\n",
      "11     dana     dana\n",
      "12      eve      eve\n",
      "13  charlie  charlie\n",
      "14      eve      eve\n",
      "15      bob      bob\n",
      "16      eve      eve\n",
      "17    frank    frank\n",
      "18      eve      eve\n",
      "19      eve      eve\n",
      "20      bob      bob\n",
      "21  charlie  charlie\n",
      "22  charlie  charlie\n",
      "23      eve      eve\n",
      "24     dana     dana\n",
      "25  charlie  charlie\n",
      "26    alice    alice\n",
      "27      eve      eve\n",
      "28     dana     dana\n",
      "29    frank    frank\n",
      "30  charlie  charlie\n",
      "31    alice    alice\n",
      "32      bob      bob\n",
      "33    frank    frank\n",
      "34    alice    alice\n",
      "35      bob      bob\n",
      "36  charlie  charlie\n",
      "37      eve      eve\n",
      "38  charlie  charlie\n",
      "39  charlie  charlie\n",
      "40     dana     dana\n",
      "41     dana     dana\n",
      "42     dana     dana\n",
      "43  charlie  charlie\n",
      "44  charlie  charlie\n",
      "45      bob      bob\n",
      "46      bob      bob\n",
      "47      eve      eve\n",
      "48  charlie  charlie\n",
      "49     dana     dana\n"
     ]
    }
   ],
   "source": [
    "#Task C\n",
    "\n",
    "df['clean'] = clean_strings(df[\"raw\"])\n",
    "print(df)\n"
   ]
  }
 ],
 "metadata": {
  "kernelspec": {
   "display_name": "base",
   "language": "python",
   "name": "python3"
  },
  "language_info": {
   "codemirror_mode": {
    "name": "ipython",
    "version": 3
   },
   "file_extension": ".py",
   "mimetype": "text/x-python",
   "name": "python",
   "nbconvert_exporter": "python",
   "pygments_lexer": "ipython3",
   "version": "3.13.5"
  }
 },
 "nbformat": 4,
 "nbformat_minor": 5
}
